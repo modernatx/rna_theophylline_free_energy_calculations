{
 "cells": [
  {
   "cell_type": "code",
   "execution_count": 5,
   "id": "37ee0c8e-097e-401b-913c-37c67a1d8d1c",
   "metadata": {},
   "outputs": [],
   "source": [
    "import numpy as np\n",
    "from simtk import unit"
   ]
  },
  {
   "cell_type": "code",
   "execution_count": 6,
   "id": "6c9528a9-26e5-4116-b8a6-3065348b1d3c",
   "metadata": {},
   "outputs": [],
   "source": [
    "def ionic_strength(ion_val, ion_conc):\n",
    "    \"\"\"\n",
    "    Given the ion valence and their concentraitons, calculates the ionic strength \n",
    "    ion_strength = 0.5 * Sigma(ci * zi**2)\n",
    "    \n",
    "    Arguments:\n",
    "        ion_val: ion charges as np array\n",
    "        ion_conc: ion concentration as np array with simtk units\n",
    "        \n",
    "    Returns:\n",
    "        ionic_strength: ionic strength with simtk units\n",
    "        \n",
    "    \"\"\"\n",
    "    ion_val_sq = ion_val**2\n",
    "    ion_strength = .5 * np.sum(ion_val_sq * ion_conc)\n",
    "    \n",
    "    return ion_strength"
   ]
  },
  {
   "cell_type": "code",
   "execution_count": 3,
   "id": "11070f2a-374c-4ac0-8cc7-9b3f010cc346",
   "metadata": {},
   "outputs": [
    {
     "data": {
      "text/plain": [
       "60.215809317471724"
      ]
     },
     "execution_count": 3,
     "metadata": {},
     "output_type": "execute_result"
    }
   ],
   "source": [
    "100/(1+10**(7.3-7.48))"
   ]
  },
  {
   "cell_type": "code",
   "execution_count": 9,
   "id": "51d0a25c-56bd-4398-8b00-54cf0f09a57f",
   "metadata": {},
   "outputs": [
    {
     "name": "stdout",
     "output_type": "stream",
     "text": [
      "experimental ionic strength is: 85.0 mM\n"
     ]
    }
   ],
   "source": [
    "# define arrays for ion charge and their concentraion in exp setup\n",
    "# 40 mM HEPES (pH 7.3, pKa 7.48, total conc 100 mM), 5 mM MgCl2, 50 mM NaCl\n",
    "ion_val = np.array([-1, +2, -1, +1, -1])\n",
    "ion_conc = np.array([40, 5, 10, 50, 50]) * unit.millimolar\n",
    "\n",
    "# get the experimental ionic stregth\n",
    "exp_ion_strength = ionic_strength(ion_val,ion_conc)\n",
    "print(r'experimental ionic strength is: %s' %exp_ion_strength)"
   ]
  },
  {
   "cell_type": "code",
   "execution_count": 10,
   "id": "f644e832-6037-4370-8c20-2aacab96ef92",
   "metadata": {},
   "outputs": [],
   "source": [
    "# simulation\n",
    "\n",
    "# number of water molecules in sim box\n",
    "n_water = 10027\n",
    "\n",
    "# volume of TIP3P water taken from VMD refer to (http://www.ks.uiuc.edu/Research/vmd/mailing_list/vmd-l/3943.html)\n",
    "volume_per_water_molecule = 31.05 * unit.angstroms**3\n",
    "\n",
    "# simulation box volume based on the number of waters\n",
    "box_vol = n_water * volume_per_water_molecule"
   ]
  },
  {
   "cell_type": "code",
   "execution_count": 11,
   "id": "083836e7-3bea-4ee0-ad51-4fc7dbb0cc18",
   "metadata": {},
   "outputs": [
    {
     "name": "stdout",
     "output_type": "stream",
     "text": [
      "concentraion of 3 Mg in the simulation box: 15.843225885156535 mM\n",
      "ionic sternt: 3.168645177031307e-29 mol/(A**3)\n",
      "concentraion of 2 Mg in the simulation box: 10.667102637203843 mM\n",
      "concentraion of Na in the simulation box: 58.669064504621126 mM\n",
      "concentraion of Cl in the simulation box: 58.669064504621126 mM\n"
     ]
    }
   ],
   "source": [
    "# calculate concentration of 3 Mg ions in the box\n",
    "box_vol_2 = 68**3 * unit.angstroms **3\n",
    "conc_Mg = 3 / unit.AVOGADRO_CONSTANT_NA / box_vol_2\n",
    "# box_vol\n",
    "# ionic strength of the 3 Mg in the box\n",
    "Mg_ion_strength = ionic_strength(np.array([2]),np.array([conc_Mg]))\n",
    "print(r'concentraion of 3 Mg in the simulation box: %s'%conc_Mg.in_units_of(unit.millimolar))\n",
    "print(r'ionic sternt: %s'%Mg_ion_strength)\n",
    "\n",
    "\n",
    "# calculate concentration of 2 Mg ions in the box\n",
    "conc_Mg_2 = 2 / unit.AVOGADRO_CONSTANT_NA / box_vol\n",
    "print(r'concentraion of 2 Mg in the simulation box: %s'%conc_Mg_2.in_units_of(unit.millimolar))\n",
    "\n",
    "\n",
    "# calculate concentration of 11 Na 11 Cl ions in the box\n",
    "conc_Na = 11 / unit.AVOGADRO_CONSTANT_NA / box_vol\n",
    "conc_Cl = 11 / unit.AVOGADRO_CONSTANT_NA / box_vol\n",
    "\n",
    "\n",
    "print(r'concentraion of Na in the simulation box: %s'%conc_Na.in_units_of(unit.millimolar))\n",
    "print(r'concentraion of Cl in the simulation box: %s'%conc_Cl.in_units_of(unit.millimolar))\n",
    "\n"
   ]
  },
  {
   "cell_type": "code",
   "execution_count": 152,
   "id": "8a8e9e94-1644-4b1e-ba6a-36377e1369a6",
   "metadata": {},
   "outputs": [
    {
     "name": "stdout",
     "output_type": "stream",
     "text": [
      "52.998692088388474 mM\n"
     ]
    }
   ],
   "source": [
    "# need ionic strength to be added with other ions\n",
    "remainder_ion_strength = exp_ion_strength - Mg_ion_strength\n",
    "print(remainder_ion_strength)\n"
   ]
  },
  {
   "cell_type": "code",
   "execution_count": 13,
   "id": "2453d9c4-f57b-433a-8de3-21fb02ed83d7",
   "metadata": {},
   "outputs": [
    {
     "name": "stdout",
     "output_type": "stream",
     "text": [
      "simulation ionic strength is: 84.0 mM\n"
     ]
    }
   ],
   "source": [
    "# check if the concentraions results in the same ionic strength in the simualtion\n",
    "\n",
    "# 14.5 mM Mg + 55 mM NaCl\n",
    "sim_val = np.array([2, 1, 1])\n",
    "sim_ion_conc = np.array([14.5, 55, 55]) * unit.millimolar\n",
    "# get the simualtion ionic stregth\n",
    "sim_ion_strength = ionic_strength(sim_val,sim_ion_conc)\n",
    "print(r'simulation ionic strength is: %s' %sim_ion_strength)\n"
   ]
  },
  {
   "cell_type": "code",
   "execution_count": null,
   "id": "24d31d9f-2686-4edf-a7e1-8fbde9edc2e0",
   "metadata": {},
   "outputs": [],
   "source": []
  }
 ],
 "metadata": {
  "kernelspec": {
   "display_name": "Python 3 (ipykernel)",
   "language": "python",
   "name": "python3"
  },
  "language_info": {
   "codemirror_mode": {
    "name": "ipython",
    "version": 3
   },
   "file_extension": ".py",
   "mimetype": "text/x-python",
   "name": "python",
   "nbconvert_exporter": "python",
   "pygments_lexer": "ipython3",
   "version": "3.10.8"
  }
 },
 "nbformat": 4,
 "nbformat_minor": 5
}
