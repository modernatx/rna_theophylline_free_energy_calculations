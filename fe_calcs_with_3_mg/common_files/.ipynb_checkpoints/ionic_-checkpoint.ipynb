{
 "cells": [
  {
   "cell_type": "code",
   "execution_count": 3,
   "id": "37ee0c8e-097e-401b-913c-37c67a1d8d1c",
   "metadata": {},
   "outputs": [],
   "source": [
    "import numpy as np\n",
    "from simtk import unit"
   ]
  },
  {
   "cell_type": "code",
   "execution_count": 5,
   "id": "6c9528a9-26e5-4116-b8a6-3065348b1d3c",
   "metadata": {},
   "outputs": [],
   "source": [
    "def ionic_strength(ion_val, ion_conc):\n",
    "    \"\"\"\n",
    "    Given the ion valence and their concentraitons, calculates the ionic strength\n",
    "    \n",
    "    Arguments:\n",
    "        ion_val: ion charges as np array\n",
    "        ion_conc: ion concentration as np array with simtk units\n",
    "        \n",
    "    Returns:\n",
    "        ionic_strength (int): ionic strength\n",
    "        \n",
    "    \"\"\"\n",
    "    ion_val_sq = ion_val**2\n",
    "    # ion_strength = \n",
    "    \n",
    "    return ion_val_sq"
   ]
  },
  {
   "cell_type": "code",
   "execution_count": 11,
   "id": "51d0a25c-56bd-4398-8b00-54cf0f09a57f",
   "metadata": {},
   "outputs": [],
   "source": [
    "ion_val = np.array([-1, -2, -1, +1, -1])\n",
    "ion_conc = np.array([50, 5, 10, 50, 50]) * unit.millimolar"
   ]
  },
  {
   "cell_type": "code",
   "execution_count": 10,
   "id": "7b4c0ec1-c213-4211-bfee-663d92dd5107",
   "metadata": {},
   "outputs": [
    {
     "name": "stdout",
     "output_type": "stream",
     "text": [
      "310.5 A**2\n"
     ]
    }
   ],
   "source": [
    "strength = "
   ]
  },
  {
   "cell_type": "code",
   "execution_count": null,
   "id": "3e933cbc-1c4d-4e7a-88a4-3f78a7478a43",
   "metadata": {},
   "outputs": [],
   "source": []
  }
 ],
 "metadata": {
  "kernelspec": {
   "display_name": "Python 3 (ipykernel)",
   "language": "python",
   "name": "python3"
  },
  "language_info": {
   "codemirror_mode": {
    "name": "ipython",
    "version": 3
   },
   "file_extension": ".py",
   "mimetype": "text/x-python",
   "name": "python",
   "nbconvert_exporter": "python",
   "pygments_lexer": "ipython3",
   "version": "3.10.6"
  }
 },
 "nbformat": 4,
 "nbformat_minor": 5
}
