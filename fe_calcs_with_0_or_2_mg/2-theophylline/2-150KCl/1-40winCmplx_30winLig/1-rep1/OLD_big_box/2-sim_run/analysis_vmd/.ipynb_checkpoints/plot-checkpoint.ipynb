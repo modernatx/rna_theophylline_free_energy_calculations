{
 "cells": [
  {
   "cell_type": "code",
   "execution_count": 1,
   "id": "65cfc7fd-4648-4539-a336-78e9ba09d6f7",
   "metadata": {},
   "outputs": [],
   "source": [
    "import numpy as np\n",
    "import matplotlib.pyplot as plt"
   ]
  },
  {
   "cell_type": "code",
   "execution_count": 3,
   "id": "44e793c2-4ce5-43d3-8960-c598d7169fac",
   "metadata": {},
   "outputs": [
    {
     "data": {
      "text/plain": [
       "array([[  0.        ,   0.        ],\n",
       "       [  1.        ,   2.17136931],\n",
       "       [  2.        ,   1.66116476],\n",
       "       ...,\n",
       "       [498.        ,   1.18452621],\n",
       "       [499.        ,   2.21237063],\n",
       "       [500.        ,   1.72644413]])"
      ]
     },
     "execution_count": 3,
     "metadata": {},
     "output_type": "execute_result"
    }
   ],
   "source": [
    "lig_rmsd = np.loadtxt('lig_rmsd.dat')\n",
    "rna_rmsd = np.loadtxt('rna_rmsd.dat')"
   ]
  },
  {
   "cell_type": "code",
   "execution_count": null,
   "id": "a6a37f77-801a-42b2-a4e6-8742e92aada5",
   "metadata": {},
   "outputs": [],
   "source": []
  }
 ],
 "metadata": {
  "kernelspec": {
   "display_name": "Python 3 (ipykernel)",
   "language": "python",
   "name": "python3"
  },
  "language_info": {
   "codemirror_mode": {
    "name": "ipython",
    "version": 3
   },
   "file_extension": ".py",
   "mimetype": "text/x-python",
   "name": "python",
   "nbconvert_exporter": "python",
   "pygments_lexer": "ipython3",
   "version": "3.9.12"
  }
 },
 "nbformat": 4,
 "nbformat_minor": 5
}
