{
 "cells": [
  {
   "cell_type": "code",
   "execution_count": 1,
   "id": "832b8468-07c8-4aa2-8735-e0c1ec947e00",
   "metadata": {},
   "outputs": [],
   "source": [
    "from simtk import unit\n",
    "import numpy as np"
   ]
  },
  {
   "cell_type": "code",
   "execution_count": 2,
   "id": "8097b4c8-029e-419d-9d35-3f03e31b4aff",
   "metadata": {},
   "outputs": [],
   "source": [
    "def calc_number_of_salt_molecules(salt_concentration, cubic_box_edge_length):\n",
    "    \"\"\"\n",
    "    Given target salt concentration and cubic solvent box edge length, calculates the number of salt molecules \n",
    "    that must be included in the simulation.\n",
    "    \n",
    "    Arguments:\n",
    "        salt_concentration: Salt concentration entered with simtk units\n",
    "        cubic_box_edge_length: Cubic box edge length with simtk units\n",
    "        \n",
    "    Returns:\n",
    "        number_of_salt_molecules (int): Number of salt molecules that must be added to the system. Unitless.\n",
    "        \n",
    "    \"\"\"\n",
    "    # Avogadro's Number\n",
    "    N_A = 6.0221409e+23/unit.mole\n",
    "    \n",
    "    box_volume = cubic_box_edge_length**3\n",
    "\n",
    "    salt_mols = salt_concentration* box_volume\n",
    "    number_of_salt_molecules = int(salt_mols*N_A)\n",
    "    \n",
    "    return number_of_salt_molecules"
   ]
  },
  {
   "cell_type": "code",
   "execution_count": 7,
   "id": "1816a736-d407-41da-9785-5d57fb9552b3",
   "metadata": {},
   "outputs": [
    {
     "data": {
      "text/plain": [
       "25"
      ]
     },
     "execution_count": 7,
     "metadata": {},
     "output_type": "execute_result"
    }
   ],
   "source": [
    "calc_number_of_salt_molecules(salt_concentration=150*unit.millimolar, cubic_box_edge_length=66*unit.angstroms)"
   ]
  },
  {
   "cell_type": "code",
   "execution_count": null,
   "id": "4f090aa9-7b07-4934-acf4-b57f385f899d",
   "metadata": {},
   "outputs": [],
   "source": []
  }
 ],
 "metadata": {
  "kernelspec": {
   "display_name": "Python 3 (ipykernel)",
   "language": "python",
   "name": "python3"
  },
  "language_info": {
   "codemirror_mode": {
    "name": "ipython",
    "version": 3
   },
   "file_extension": ".py",
   "mimetype": "text/x-python",
   "name": "python",
   "nbconvert_exporter": "python",
   "pygments_lexer": "ipython3",
   "version": "3.9.12"
  }
 },
 "nbformat": 4,
 "nbformat_minor": 5
}
